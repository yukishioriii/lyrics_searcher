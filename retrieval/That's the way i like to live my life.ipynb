{
 "cells": [
  {
   "cell_type": "code",
   "execution_count": 1,
   "metadata": {},
   "outputs": [],
   "source": [
    "from sklearn.utils import murmurhash3_32\n",
    "import numpy as np\n",
    "import os\n",
    "import re\n",
    "from tqdm import tqdm\n",
    "from collections import Counter\n",
    "from scipy.sparse import csr_matrix\n"
   ]
  },
  {
   "cell_type": "code",
   "execution_count": 2,
   "metadata": {},
   "outputs": [],
   "source": [
    "from fugashi import Tagger\n",
    "\n",
    "\n",
    "def mecab_tokenizer(text):\n",
    "    tagger = Tagger('-Owakati')\n",
    "    return [str(word) for word in tagger.parse(text).split() if str(word).strip()]\n",
    "\n",
    "def hash(token, num_buckets):\n",
    "    return murmurhash3_32(token) % num_buckets"
   ]
  },
  {
   "cell_type": "code",
   "execution_count": 3,
   "metadata": {},
   "outputs": [],
   "source": [
    "names = []\n",
    "docs = []\n",
    "for root, dirs, files in os.walk(\"../lyrics\", topdown=False):\n",
    "    for name in files:\n",
    "        text =  re.sub(\"\\n\\t\", \"\", open(\n",
    "            os.path.join(root, name), 'r').read())\n",
    "        if text:\n",
    "            names.append(name)\n",
    "            docs.append(mecab_tokenizer(text))\n",
    "        if len(docs) > 500:\n",
    "            break\n",
    "            \n",
    "name_idx = {}\n",
    "idx_name = {}\n",
    "idx_doc = {}\n",
    "\n",
    "grow = []\n",
    "gcol = []\n",
    "gdata = []\n",
    "num_buckets = 2**20\n",
    "for i in range(len(names)):\n",
    "    name_idx[names[i]] = i\n",
    "    idx_name[i] =  names[i]\n",
    "    idx_doc[i] = docs[i]\n",
    "    \n",
    "    counter = Counter(docs[i])\n",
    "    col = [hash(word, num_buckets) for word in list(counter.keys())]\n",
    "    data = [counter[word] for word in list(counter.keys())]\n",
    "    \n",
    "    grow.extend([i] *  len(col))\n",
    "    gcol.extend(col)\n",
    "    gdata.extend(data)\n",
    "    "
   ]
  },
  {
   "cell_type": "code",
   "execution_count": 4,
   "metadata": {},
   "outputs": [],
   "source": [
    "matrix = csr_matrix((gdata, (grow, gcol)), (len(names), num_buckets))"
   ]
  },
  {
   "cell_type": "code",
   "execution_count": 5,
   "metadata": {},
   "outputs": [],
   "source": [
    "def get_doc_freq(mat):\n",
    "    binary = (mat > 0).astype(int) \n",
    "    return mat.sum(axis=0)\n"
   ]
  },
  {
   "cell_type": "code",
   "execution_count": 6,
   "metadata": {},
   "outputs": [
    {
     "name": "stderr",
     "output_type": "stream",
     "text": [
      "/home/ando/Downloads/codeInstall/anaconda/envs/automl/lib/python3.7/site-packages/scipy/sparse/base.py:595: RuntimeWarning: invalid value encountered in true_divide\n",
      "  return np.true_divide(self.todense(), other)\n"
     ]
    }
   ],
   "source": [
    "matrix = matrix / get_doc_freq(matrix) + "
   ]
  },
  {
   "cell_type": "code",
   "execution_count": 43,
   "metadata": {},
   "outputs": [
    {
     "data": {
      "text/plain": [
       "array([[0]])"
      ]
     },
     "execution_count": 43,
     "metadata": {},
     "output_type": "execute_result"
    }
   ],
   "source": [
    "sum(matrix[:, hash(\"kusa\", num_buckets)]).toarray()"
   ]
  },
  {
   "cell_type": "code",
   "execution_count": null,
   "metadata": {},
   "outputs": [],
   "source": [
    "def query_to_vec(q):\n",
    "    return "
   ]
  },
  {
   "cell_type": "code",
   "execution_count": 8,
   "metadata": {},
   "outputs": [],
   "source": [
    "matrix = None"
   ]
  },
  {
   "cell_type": "code",
   "execution_count": null,
   "metadata": {},
   "outputs": [],
   "source": []
  }
 ],
 "metadata": {
  "kernelspec": {
   "display_name": "Python 3",
   "language": "python",
   "name": "python3"
  },
  "language_info": {
   "codemirror_mode": {
    "name": "ipython",
    "version": 3
   },
   "file_extension": ".py",
   "mimetype": "text/x-python",
   "name": "python",
   "nbconvert_exporter": "python",
   "pygments_lexer": "ipython3",
   "version": "3.7.9"
  }
 },
 "nbformat": 4,
 "nbformat_minor": 4
}
